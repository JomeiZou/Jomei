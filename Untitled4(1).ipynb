{
 "cells": [
  {
   "cell_type": "code",
   "execution_count": 1,
   "metadata": {},
   "outputs": [
    {
     "name": "stdout",
     "output_type": "stream",
     "text": [
      "█\r"
     ]
    },
    {
     "name": "stderr",
     "output_type": "stream",
     "text": [
      "Getting uuid of QR code.\n",
      "Downloading QR code.\n",
      "Please scan the QR code to log in.\n",
      "Please press confirm on your phone.\n",
      "Loading the contact, this may take a little while.\n",
      "Login successfully as .\n"
     ]
    },
    {
     "name": "stdout",
     "output_type": "stream",
     "text": [
      "[<Friend: .>, <Friend: 媛宝>, <Friend: AA易烊千玺的连襟>, <Friend: 杨志伟>, <Friend: 李长达>, <Friend: 木木>, <Friend: 高儿>, <Friend: 曈>, <Friend: 霍帅哥>, <Friend: 霍林西山香网销部>, <Friend: QM>, <Friend: A售后客服B>, <Friend: 二姐夫>, <Friend: 袁宝军>, <Friend: 陶画缘泥人定制客服>, <Friend: 高利然>, <Friend: 爱文老师>, <Friend: 若叶等风>, <Friend: 敖汉申通（八杯水）>, <Friend: 丽丽二嫂子>, <Friend: 一只活代购Tapac>, <Friend:  简单>, <Friend: 亮>, <Friend: 郭然>, <Friend: 梁亮>, <Friend: 魏捷>, <Friend: 张磊>, <Friend: 张振虎>, <Friend: 15统计崔志夫>, <Friend: 张老师>, <Friend: 绍夫>, <Friend: 榛果民宿>, <Friend: 林洁姐>, <Friend: 梦梦药品台日代>, <Friend: 🍄JA大牌分装试色🍄>, <Friend: 张娇娇>, <Friend: 张宇航>, <Friend: 俯瞰天空>, <Friend: 二姐>, <Friend: 老舅>, <Friend: 邹良玉>, <Friend: 王晓萌>, <Friend: 邢正如>, <Friend: 汤红鹏>, <Friend: 德玲二姑>, <Friend: 田老师>, <Friend: 孙磊>, <Friend: zjh>, <Friend: 樊巧莲老师>, <Friend: 邹良宇>, <Friend: 胡老师>, <Friend: 🐭>, <Friend: 周轩扬>, <Friend: 幽 呦闹>, <Friend: 贺娜>, <Friend: 王影>, <Friend: 丛婷婷>, <Friend: A娜米奇精致烫染&amp;美甲💅🏻>, <Friend: 迷涂>, <Friend: 呼源数据分析。代行强>, <Friend: 张芮>, <Friend: 百信旅游  |  格日乐图>, <Friend: 摄影Y… Lù>, <Friend: 张玉杰>, <Friend: 旭爷>, <Friend: 刘儿>, <Friend: 祝福>, <Friend: 张龙宇>, <Friend: 老边饺子馆￥15849673660>, <Friend: 李园媛>, <Friend: 傻儿子>, <Friend: 郭志颍>, <Friend: soul YUXIAOLONG.com>, <Friend: 张佳彤>, <Friend: 沈八岁鞋子铺2号（可花呗)>, <Friend: 史娇娇>, <Friend: 贺宏>, <Friend: 翠翠>, <Friend: .>, <Friend: 梁云鹏>, <Friend: 高阳>, <Friend: 😁 😁>, <Friend: 王光磊>, <Friend: 海拉尔区唇辣号火锅林13948303220>, <Friend: 杨超老师>, <Friend: 🐒>, <Friend: 田成>, <Friend: 安永红>, <Friend: 刘旭哲>, <Friend: 刘静>, <Friend: 教练每条收费十元>, <Friend: 学无止境>, <Friend: 宝艳蕾>, <Friend: 高亚楠>, <Friend: 刘小双>, <Friend: 小春>, <Friend: 亭亭>, <Friend: 班主任>, <Friend: 顺丰快递>, <Friend: 一刻达快递代取>, <Friend: 星薪法考~天天>, <Friend: 凡事都要笑>, <Friend: 余剑涛>, <Friend: 存亮>, <Friend: 在你隔壁>, <Friend: 老姑>, <Friend: DOU北北>, <Friend: 冯帅>, <Friend: 甄海龙老师>, <Friend: 罗广峰>, <Friend: 杜玉影>, <Friend: 冯晓鸣>, <Friend: 考考老师  宋老师>, <Friend: 志娟>, <Friend: 小娜姐>, <Friend: 海宝小哥>, <Friend: MM<span class=\"emoji emoji1f338\"></span>>, <Friend: 牛俊华>, <Friend: ℡- 小虎牙、>, <Friend: Dr^ole>, <Friend: 计心如>, <Friend: <span class=\"emoji emoji1f337\"></span>爱娟<span class=\"emoji emoji1f337\"></span>楼长>, <Friend: 厚编编（在校生）>, <Friend: 文宏伟>, <Friend: 袁婷>, <Friend: 季树康 山东大学>, <Friend: 亚芳>, <Friend: 罗军威>, <Friend: 邹存阳>, <Friend: 范安荣老师>, <Friend: 韵达空谷幽兰>, <Friend: 玺子哥>, <Friend: 洗衣服，玖零城~样儿多多>, <Friend: 张洪波>, <Friend: 志新>, <Friend: 李天宇>, <Friend: 赵振宇>, <Friend: Healer->, <Friend: AA易烊千玺的丈母娘>, <Friend: 程思齐>, <Friend: 冬梅大姐>, <Friend: 代购小可爱>, <Friend: 存燕二姐>, <Friend: 赵娇>, <Friend: <span class=\"emoji emoji1f433\"></span>18804950472苕粉>, <Friend: 二三>, <Friend: 佳琪>, <Friend: AA易烊千玺老婆的闺蜜>, <Friend: 香波>, <Friend: 🍍>, <Friend: 李璐>, <Friend: 小孩儿>, <Friend: 佳瑞宝贝>, <Friend: 任雪静>, <Friend: 张起兵>, <Friend: 于天奇>, <Friend: 毛新颖大美女>, <Friend: 💙💙>, <Friend: 李颖超>, <Friend: 赵昀>, <Friend: 存明三哥>, <Friend: 王昌荣就业指导>, <Friend: 葛秀敏老师>, <Friend: 张丽芳就业指导>, <Friend: 李东生>, <Friend: 小鸡>, <Friend: 刘琳总监>, <Friend: 水果超市>, <Friend: `〃Dear  Me*>, <Friend: 基地快递>, <Friend: 考考老师 成老师>, <Friend: 1005舍长>, <Friend: 许立民>, <Friend: 宇航>, <Friend: 王华峰老师>, <Friend: 皮卡秋🐣>, <Friend: C安娜>, <Friend: 王井云>, <Friend: 。👑东。18748356370>, <Friend: 哈秋>, <Friend: 王世林>, <Friend: 孙双鑫>, <Friend: 齐阿龙>, <Friend: 小矮个专属起床铃声>, <Friend: 代购文静>, <Friend: 我家一米九的老弟<span class=\"emoji emoji1f631\"></span> >, <Friend: 温州城无恙 .>, <Friend: 药水十月>, <Friend: soul   小林同学>, <Friend: 曹同学🍓>, <Friend: 晓鹏教官>, <Friend: 王海连>, <Friend: 泽泽>, <Friend: 姑娘℡ 💋>, <Friend: 吕小黑>, <Friend: 屈振力>, <Friend: 朱慧>, <Friend: 杨洋田螺家>, <Friend: AA易烊千玺的大姨子>, <Friend: ACE>, <Friend: 海静>, <Friend: 撞了怀>, <Friend: 驾校副校长>, <Friend: 小文>, <Friend: 商店强子>, <Friend: 清哩哩naº>, <Friend: 赛男>, <Friend: 张颖>, <Friend: 张雅倩>, <Friend: Throb💕>, <Friend: 韩佳丽>, <Friend: 梁小芳>, <Friend: 小影子>, <Friend: 小石头>, <Friend: 小新新呀>, <Friend: 孙亚学姐>, <Friend: 高浩然>, <Friend: 薛志鹏>, <Friend: 温守杰>, <Friend: 燕燕>]\n"
     ]
    },
    {
     "data": {
      "text/plain": [
       "↪ 媛宝 : (Picture)"
      ]
     },
     "execution_count": 1,
     "metadata": {},
     "output_type": "execute_result"
    }
   ],
   "source": [
    "from wxpy import *\n",
    "bot =Bot()\n",
    "my_friend = bot.friends()\n",
    "print(my_friend)\n",
    "my_friend = bot.friends().search('媛宝')[0]\n",
    "my_friend.send('易烊千玺老婆给你发微信了!')\n",
    "my_friend.send_image('u=1244958686,3498227423&fm=11&gp=0.jpg')"
   ]
  },
  {
   "cell_type": "code",
   "execution_count": 2,
   "metadata": {},
   "outputs": [],
   "source": [
    "@bot.register()\n",
    "def print_others(msg):\n",
    "    print(msg)"
   ]
  },
  {
   "cell_type": "code",
   "execution_count": 3,
   "metadata": {},
   "outputs": [],
   "source": [
    "@bot.register(my_friend)\n",
    "def reply_my_friend(msg):\n",
    "    return '请继续回复小仙女的微信'.format(msg.text, msg.type)"
   ]
  },
  {
   "cell_type": "code",
   "execution_count": 4,
   "metadata": {},
   "outputs": [
    {
     "name": "stderr",
     "output_type": "stream",
     "text": [
      "Getting uuid of QR code.\n",
      "Downloading QR code.\n",
      "Please scan the QR code to log in.\n",
      "Please press confirm on your phone.\n",
      "LOG OUT!\n",
      "Loading the contact, this may take a little while.\n",
      "Login successfully as .\n"
     ]
    },
    {
     "name": "stdout",
     "output_type": "stream",
     "text": [
      "男性好友: 0.00%\n",
      "女性好友: 0.46%\n",
      "其他: 0.00%\n"
     ]
    }
   ],
   "source": [
    "def get_friend_sex(friends):\n",
    "    male = female = other = 0\n",
    "    for i in friends[1:]:\n",
    "        sex = i.sex\n",
    "        if sex == 1:\n",
    "            male += 1\n",
    "        elif sex == 2:\n",
    "            female += 1\n",
    "        else:\n",
    "            other += 1\n",
    "        return male,female,other\n",
    "bot = Bot(cache_path=True)\n",
    "bot.file_helper.send('hello world!')\n",
    "friends = bot.friends()\n",
    "male,female,other = get_friend_sex(friends)\n",
    "total = len(friends[1:])\n",
    "print(\"男性好友: %.2f%%\" % (float(male) / total * 100))\n",
    "print(\"女性好友: %.2f%%\" % (float(female) / total * 100))\n",
    "print(\"其他: %.2f%%\" % (float(other) / total * 100))"
   ]
  },
  {
   "cell_type": "code",
   "execution_count": null,
   "metadata": {},
   "outputs": [],
   "source": []
  }
 ],
 "metadata": {
  "kernelspec": {
   "display_name": "Python 3",
   "language": "python",
   "name": "python3"
  },
  "language_info": {
   "codemirror_mode": {
    "name": "ipython",
    "version": 3
   },
   "file_extension": ".py",
   "mimetype": "text/x-python",
   "name": "python",
   "nbconvert_exporter": "python",
   "pygments_lexer": "ipython3",
   "version": "3.7.3"
  }
 },
 "nbformat": 4,
 "nbformat_minor": 2
}
