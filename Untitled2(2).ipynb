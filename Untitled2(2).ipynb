{
 "cells": [
  {
   "cell_type": "code",
   "execution_count": 1,
   "metadata": {},
   "outputs": [
    {
     "name": "stdout",
     "output_type": "stream",
     "text": [
      "请选择人机或者多人对战！\n",
      "输入人机\n",
      "人机\n",
      "请从典韦、赵云、鲁班中挑选一个人物！\n",
      "输入典韦\n",
      "典韦\n",
      "典韦 战力6666 防御力5555\n",
      "随机生成对战玩家\n",
      "赵云\n",
      "请输入开始\n",
      "输入开始\n",
      "输入正确\n",
      "正在加载，请耐心等待！\n"
     ]
    }
   ],
   "source": [
    "import numpy as np\n",
    "class Wangzhe(object):\n",
    "    def __init__(self):\n",
    "        pass\n",
    "    def duizhanfangshi(self):\n",
    "        print('请选择人机或者多人对战！')\n",
    "        a = input('输入')\n",
    "        print(a)\n",
    "        self.a=a\n",
    "    def renwu(self):\n",
    "        print('请从典韦、赵云、鲁班中挑选一个人物！')\n",
    "        b = input('输入')\n",
    "        print(b)\n",
    "        self.b=b\n",
    "    def shuxing(self):\n",
    "        if self.b == '典韦':\n",
    "            print(\"典韦 战力6666 防御力5555\")\n",
    "        elif self.b == '赵云':\n",
    "            print(\"赵云 战力9999 防御力8888\")\n",
    "        else:\n",
    "            print(\"鲁班 战力11111 防御力33333\")\n",
    "    def shengcheng(self):\n",
    "        print(\"随机生成对战玩家\")\n",
    "        c = np.random.choice(['典韦','赵云','鲁班'])\n",
    "        print(c)\n",
    "    def kaishi(self):\n",
    "        print(\"请输入开始\")\n",
    "        d = input('输入')\n",
    "        if d == \"开始\":\n",
    "            print(\"输入正确\")\n",
    "        else:\n",
    "            print(\"输入有误！\")\n",
    "    def jiazai(self):\n",
    "        print('正在加载，请耐心等待！')\n",
    "    \n",
    "jomei = Wangzhe()\n",
    "jomei.duizhanfangshi()\n",
    "jomei.renwu()\n",
    "jomei.shuxing()\n",
    "jomei.shengcheng()\n",
    "jomei.kaishi()\n",
    "jomei.jiazai()"
   ]
  },
  {
   "cell_type": "code",
   "execution_count": 2,
   "metadata": {},
   "outputs": [
    {
     "name": "stdout",
     "output_type": "stream",
     "text": [
      "输入数字100\n",
      "\n",
      "1 5 12 22 35 51 70 92 117 145 \n",
      "176 210 247 287 330 376 425 477 532 590 \n",
      "651 715 782 852 925 1001 1080 1162 1247 1335 \n",
      "1426 1520 1617 1717 1820 1926 2035 2147 2262 2380 \n",
      "2501 2625 2752 2882 3015 3151 3290 3432 3577 3725 \n",
      "3876 4030 4187 4347 4510 4676 4845 5017 5192 5370 \n",
      "5551 5735 5922 6112 6305 6501 6700 6902 7107 7315 \n",
      "7526 7740 7957 8177 8400 8626 8855 9087 9322 9560 \n",
      "9801 10045 10292 10542 10795 11051 11310 11572 11837 12105 \n",
      "12376 12650 12927 13207 13490 13776 14065 14357 14652 "
     ]
    }
   ],
   "source": [
    "def getpentagonalNumber(n):\n",
    "    a=0\n",
    "    c=0\n",
    "    for i in range(1,n,1):\n",
    "        a=int(i*(3*i-1)/2)\n",
    "        if c%10==0:\n",
    "            print()\n",
    "        print(a,end=\" \")\n",
    "        c+=1\n",
    "n=int(input(\"输入数字\"))\n",
    "getpentagonalNumber(n)"
   ]
  },
  {
   "cell_type": "code",
   "execution_count": 3,
   "metadata": {},
   "outputs": [
    {
     "name": "stdout",
     "output_type": "stream",
     "text": [
      "输入1111\n"
     ]
    },
    {
     "data": {
      "text/plain": [
       "13"
      ]
     },
     "execution_count": 3,
     "metadata": {},
     "output_type": "execute_result"
    }
   ],
   "source": [
    "def sumdigits(n):\n",
    "    y=n%10\n",
    "    a=n//10%10\n",
    "    n=n//100\n",
    "    sum=y+a+n\n",
    "    return sum\n",
    "n=int(input(\"输入\"))\n",
    "sumdigits(n)"
   ]
  },
  {
   "cell_type": "code",
   "execution_count": 4,
   "metadata": {},
   "outputs": [
    {
     "name": "stdout",
     "output_type": "stream",
     "text": [
      "输入三个整数88 11 79\n"
     ]
    },
    {
     "data": {
      "text/plain": [
       "(11, 79, 88)"
      ]
     },
     "execution_count": 4,
     "metadata": {},
     "output_type": "execute_result"
    }
   ],
   "source": [
    "def displaysortednumbers(a,b,c):\n",
    "    if a > b:\n",
    "        a,b = b,a\n",
    "    if a > c:\n",
    "        a,c = c,a\n",
    "    if b > c:\n",
    "        b,c = c,b\n",
    "    return a,b,c\n",
    "a,b,c = map(int,input('输入三个整数').split(\" \"))\n",
    "displaysortednumbers(a,b,c)"
   ]
  },
  {
   "cell_type": "code",
   "execution_count": 5,
   "metadata": {},
   "outputs": [
    {
     "name": "stdout",
     "output_type": "stream",
     "text": [
      "2010年有365天\n",
      "2011年有365天\n",
      "2012年有366天\n",
      "2013年有365天\n",
      "2014年有365天\n",
      "2015年有365天\n",
      "2016年有366天\n",
      "2017年有365天\n",
      "2018年有365天\n",
      "2019年有365天\n",
      "2020年有366天\n"
     ]
    }
   ],
   "source": [
    "def numberofdayinyear():\n",
    "    c=31+28+31+30+31+30+31+31+30+31+30+31\n",
    "    for i in range(2010,2021):\n",
    "        if i%4 == 0 and i%100 != 0 or i%400 == 0:\n",
    "            print('%d年有%d天'%(i,c+1))\n",
    "        else:\n",
    "            print('%d年有%d天'%(i,c))\n",
    "numberofdayinyear()"
   ]
  },
  {
   "cell_type": "code",
   "execution_count": 1,
   "metadata": {},
   "outputs": [
    {
     "name": "stdout",
     "output_type": "stream",
     "text": [
      "请输入第一个字符：1\n",
      "请输入第二个字符：z\n",
      "请输入每行打印的个数：10\n",
      "1 2 3 4 5 6 7 8 9 : \n",
      "; < = > ? @ A B C D \n",
      "E F G H I J K L M N \n",
      "O P Q R S T U V W X \n",
      "Y Z [ \\ ] ^ _ ` a b \n",
      "c d e f g h i j k l \n",
      "m n o p q r s t u v \n",
      "w x y z "
     ]
    }
   ],
   "source": [
    "def printchars(ch1,ch2,n):\n",
    "    count = 0\n",
    "    for i in range(ord(ch1),ord(ch2)+1):\n",
    "        print(chr(i),end=\" \")\n",
    "        count += 1\n",
    "        if count % n == 0:\n",
    "            print()\n",
    "ch1 = input('请输入第一个字符：')\n",
    "ch2 = input('请输入第二个字符：')\n",
    "n = int(input('请输入每行打印的个数：'))\n",
    "printchars(ch1,ch2,n)"
   ]
  },
  {
   "cell_type": "code",
   "execution_count": 2,
   "metadata": {},
   "outputs": [
    {
     "name": "stdout",
     "output_type": "stream",
     "text": [
      "请输入坐标：0 0 3 4\n"
     ]
    },
    {
     "data": {
      "text/plain": [
       "5.0"
      ]
     },
     "execution_count": 2,
     "metadata": {},
     "output_type": "execute_result"
    }
   ],
   "source": [
    "import math\n",
    "def distance(x1,y1,x2,y2):\n",
    "    a=x2-x1\n",
    "    b=y2-y1\n",
    "    c=math.sqrt((a**2)+(b**2))\n",
    "    return c\n",
    "x1,y1,x2,y2=map(int,input('请输入坐标：').split())\n",
    "distance(x1,y1,x2,y2)"
   ]
  },
  {
   "cell_type": "code",
   "execution_count": 3,
   "metadata": {},
   "outputs": [
    {
     "name": "stdout",
     "output_type": "stream",
     "text": [
      "本地时间为： Wed Aug  7 19:31:45 2019\n"
     ]
    }
   ],
   "source": [
    "import time\n",
    "localtime = time.asctime(time.localtime(time.time()))\n",
    "print(\"本地时间为：\",localtime)"
   ]
  },
  {
   "cell_type": "code",
   "execution_count": 8,
   "metadata": {},
   "outputs": [
    {
     "name": "stdout",
     "output_type": "stream",
     "text": [
      "2 + 3 = 5\n",
      "5 + 2 = 7\n",
      "你输了\n"
     ]
    }
   ],
   "source": [
    "import random\n",
    "def shaizi():\n",
    "    a=random.choice([1,2,3,4,5,6])\n",
    "    b=random.choice([1,2,3,4,5,6])\n",
    "    if a+b==2 or a+b==3 or a+b==12:\n",
    "        print('%d + %d = %d'%(a,b,a+b))\n",
    "        print('你输了')\n",
    "    elif a+b==7 or a+b==11:\n",
    "        print('%d + %d = %d' %(a,b,a+b))\n",
    "        print('你赢了')\n",
    "    else:\n",
    "        print('%d + %d = %d' %(a,b,a+b))\n",
    "        c=random.choice([1,2,3,4,5,6])\n",
    "        d=random.choice([1,2,3,4,5,6])\n",
    "        if c+d==7:\n",
    "            print('%d + %d = %d' %(c,d,c+d))\n",
    "            print('你输了')\n",
    "        elif c+d==a+b:\n",
    "            print('%d + %d = %d' %(c,d,c+d))\n",
    "            print('你赢了')\n",
    "shaizi()"
   ]
  },
  {
   "cell_type": "code",
   "execution_count": 7,
   "metadata": {},
   "outputs": [
    {
     "ename": "SyntaxError",
     "evalue": "invalid syntax (<ipython-input-7-526ce56e6577>, line 18)",
     "output_type": "error",
     "traceback": [
      "\u001b[1;36m  File \u001b[1;32m\"<ipython-input-7-526ce56e6577>\"\u001b[1;36m, line \u001b[1;32m18\u001b[0m\n\u001b[1;33m    if (2**p) 1--a[i]:\u001b[0m\n\u001b[1;37m              ^\u001b[0m\n\u001b[1;31mSyntaxError\u001b[0m\u001b[1;31m:\u001b[0m invalid syntax\n"
     ]
    }
   ],
   "source": [
    "import math\n",
    "def prime():\n",
    "    num=[]\n",
    "    i=2\n",
    "    for i in range(2,32):\n",
    "        j-2\n",
    "        for j in range(2,i):\n",
    "            if(i%j==0):\n",
    "                break\n",
    "        else:\n",
    "            num.append(i)\n",
    "    return num\n",
    "def misen():\n",
    "    print('p        2^p-1')\n",
    "    a=prime()\n",
    "    for p in range(1,32):\n",
    "        for i in range(11):\n",
    "            if (2**p) 1--a[i]:\n",
    "                print(\"%d         %d\" %(p,a[i]))\n",
    "misen()"
   ]
  },
  {
   "cell_type": "code",
   "execution_count": null,
   "metadata": {},
   "outputs": [],
   "source": []
  }
 ],
 "metadata": {
  "kernelspec": {
   "display_name": "Python 3",
   "language": "python",
   "name": "python3"
  },
  "language_info": {
   "codemirror_mode": {
    "name": "ipython",
    "version": 3
   },
   "file_extension": ".py",
   "mimetype": "text/x-python",
   "name": "python",
   "nbconvert_exporter": "python",
   "pygments_lexer": "ipython3",
   "version": "3.6.4"
  }
 },
 "nbformat": 4,
 "nbformat_minor": 2
}
