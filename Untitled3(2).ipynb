{
 "cells": [
  {
   "cell_type": "code",
   "execution_count": 1,
   "metadata": {},
   "outputs": [
    {
     "name": "stdout",
     "output_type": "stream",
     "text": [
      "请输入宽：3\n",
      "请输入高：10\n",
      "宽是：3.00,高是：10.00\n",
      "面积是：30.0000\n",
      "周长是：26.0000\n"
     ]
    }
   ],
   "source": [
    "import math\n",
    "class Rectangle(object):\n",
    "    def __init__(self,width,height):\n",
    "        self.width=width\n",
    "        self.height=height\n",
    "        print('宽是：%.2f,高是：%.2f'% (width,height))\n",
    "    def getArea(self):\n",
    "        return self.width*self.height\n",
    "    def getPerimeter(self):\n",
    "        \n",
    "        return 2*(self.width+self.height)\n",
    "if __name__ == \"__main__\":\n",
    "    width=float(input('请输入宽：'))\n",
    "    height=float(input('请输入高：'))\n",
    "    r=Rectangle(width,height)\n",
    "    print('面积是：%.4f'% r.getArea())\n",
    "    print('周长是：%.4f'% r.getPerimeter())"
   ]
  },
  {
   "cell_type": "code",
   "execution_count": 1,
   "metadata": {},
   "outputs": [
    {
     "name": "stdout",
     "output_type": "stream",
     "text": [
      "请输入您的id：12345\n",
      "请输入本金：2222\n",
      "请输入年利率：10\n",
      "id是12345：\n",
      "金额是2222\n",
      "月利率是0.0083：\n",
      "月利息是18.5167：\n"
     ]
    }
   ],
   "source": [
    "class Account(object):\n",
    "    def __init__(self,id,bala,ann):\n",
    "        self.__id=id\n",
    "        self.__bala=float(bala)\n",
    "        self.__ann=float(ann)\n",
    "    def getMonthlyInterestRate(self):\n",
    "        self.f=float(self.__ann/1200)\n",
    "        print('月利率是%.4f：'% self.f)\n",
    "    def getMonthlyInterest(self):\n",
    "        s=float(self.f*self.__bala)\n",
    "        print('月利息是%.4f：'% s)      \n",
    "    def withdraw(self,quzou):\n",
    "        self.quzou=quzou\n",
    "        a=float(self.__bala*self.__ann/1200)-quzou\n",
    "        print(a)\n",
    "    def deposit(self,cunqian):\n",
    "        self.cunqian=cunqian\n",
    "        b=float(elf.__bala*self.__ann/1200)-cunqian\n",
    "        print(b)        \n",
    "if __name__ == \"__main__\":\n",
    "    id=int(input('请输入您的id：'))\n",
    "    bala=float(input('请输入本金：'))\n",
    "    ann=float(input('请输入年利率：'))\n",
    "    a=Account(id,bala,ann)\n",
    "    print('id是%d：'% a._Account__id)\n",
    "    print('金额是%d'% a._Account__bala)\n",
    "    a.getMonthlyInterestRate()\n",
    "    a.getMonthlyInterest()"
   ]
  },
  {
   "cell_type": "code",
   "execution_count": 1,
   "metadata": {},
   "outputs": [
    {
     "name": "stdout",
     "output_type": "stream",
     "text": [
      "选择速度：15\n",
      "on or offon\n",
      "半径是：3\n",
      "颜色是：红\n",
      "关闭\n",
      "3.0\n",
      "红\n"
     ]
    }
   ],
   "source": [
    "class Fan(object):\n",
    "    def __init__(self,speed=1,on=False,r=5,color='blue'):\n",
    "        self.SLOW=1\n",
    "        self.MEDIUM=2\n",
    "        self.FAST=3\n",
    "        self.__speed=int(speed)\n",
    "        self.__on=bool(on)\n",
    "        self.__r=float(r)\n",
    "        self.__color=str(color)       \n",
    "    def prints(self):\n",
    "        if self.__speed==1:\n",
    "            print('SLOW')\n",
    "        elif self.__speed==2:\n",
    "            print('MEDIUM')\n",
    "        elif self.__speed==3:\n",
    "            print('FAST')\n",
    "        if self.__on=='on':\n",
    "            print('打开')\n",
    "        else:\n",
    "            print('关闭')       \n",
    "        print(self.__r)\n",
    "        print(self.__color)\n",
    "if __name__ == \"__main__\":\n",
    "    speed=int(input('选择速度：'))\n",
    "    on=bool(input('on or off'))\n",
    "    r=float(input('半径是：'))\n",
    "    color=str(input('颜色是：'))\n",
    "    fan=Fan(speed,on,r,color)\n",
    "    fan.prints()"
   ]
  },
  {
   "cell_type": "code",
   "execution_count": 2,
   "metadata": {},
   "outputs": [
    {
     "name": "stdout",
     "output_type": "stream",
     "text": [
      "请输入边数：4\n",
      "请输入边长：5\n",
      "请输入x轴坐标：7\n",
      "请输入y轴坐标：6\n",
      "周长是:20.0000\n",
      "面积25.0000\n"
     ]
    }
   ],
   "source": [
    "import math\n",
    "\n",
    "class RegularPolygon(object):\n",
    "    def __init__(self,n=3,side=1,x=0,y=0):\n",
    "        self.__n=int(n)\n",
    "        self.__side=float(side)\n",
    "        self.__x=float(x)\n",
    "        self.__y=float(y)\n",
    "    def getPerimetetr(self):\n",
    "        print('周长是:%.4f'% (self.__n*self.__side )) \n",
    "    def getArea(self):\n",
    "        self.s=self.__n*(self.__side**2)/4*math.tan(math.pi/self.__n)\n",
    "        print('面积%.4f'% self.s)\n",
    "if __name__ == \"__main__\":\n",
    "    n=int(input('请输入边数：'))\n",
    "    side=float(input('请输入边长：'))\n",
    "    x=float(input('请输入x轴坐标：'))\n",
    "    y=float(input('请输入y轴坐标：'))\n",
    "    r=RegularPolygon(n,side,x,y)\n",
    "    r.getPerimetetr()\n",
    "    r.getArea()"
   ]
  },
  {
   "cell_type": "code",
   "execution_count": 1,
   "metadata": {},
   "outputs": [
    {
     "name": "stdout",
     "output_type": "stream",
     "text": [
      "a的值是：3\n",
      "b的值是：4\n",
      "c的值是：7\n",
      "d的值是：9\n",
      "e的值是：11\n",
      "f的值是：14\n",
      "X的值为：155.00\n",
      "Y的值为：119.00\n"
     ]
    }
   ],
   "source": [
    "class LinearEquation(object):   \n",
    "    def __init__(self,a,b,c,d,e,f):\n",
    "        self.__a=a\n",
    "        self.__b=b\n",
    "        self.__c=c\n",
    "        self.__d=d\n",
    "        self.__e=e\n",
    "        self.__f=f           \n",
    "    def set_a(self,a):\n",
    "        self.__a=a\n",
    "    def get_a(self):\n",
    "        return self.__a\n",
    "    def set_b(self,b):\n",
    "        self.__b=b\n",
    "    def get_b(self):\n",
    "        return self.___b\n",
    "    def set_c(self,c):\n",
    "        self.__c=c\n",
    "    def get_c(self):\n",
    "        return self.__c\n",
    "    def set_d(self,d):\n",
    "        self.__d=d\n",
    "    def get_d(self):\n",
    "        return self.__d\n",
    "    def set_e(self,e):\n",
    "        self.__e=e\n",
    "    def get_e(self):\n",
    "        return self.__e\n",
    "    def set_f(self,f):\n",
    "        self.__f=f\n",
    "    def get_f(self):\n",
    "        return self.__f\n",
    "    def isSolvable(self):\n",
    "        if (self.__a*self.__d)-(self.__c*self.__b)!=0:\n",
    "            return True\n",
    "        else:\n",
    "            return print('此方程无解')\n",
    "    def getX(self):\n",
    "        s=(self.__a*self.__d)-(self.__b*self.__c)\n",
    "        x=(self.__e*self.__d)-(self.__b*self.__f)/s\n",
    "        print('X的值为：%.2f'% x)\n",
    "    def getY(self):\n",
    "        s=(self.__a*self.__d)-(self.__b*self.__c)\n",
    "        y=(self.__a*self.__f)-(self.__e*self.__c)/s\n",
    "        print('Y的值为：%.2f'% y)\n",
    "if __name__==\"__main__\":\n",
    "    a=int(input('a的值是：'))\n",
    "    b=int(input('b的值是：'))\n",
    "    c=int(input('c的值是：'))\n",
    "    d=int(input('d的值是：'))\n",
    "    e=int(input('e的值是：'))\n",
    "    f=int(input('f的值是：'))\n",
    "    l=LinearEquation(a,b,c,d,e,f)\n",
    "    l.isSolvable()\n",
    "    l.getX()\n",
    "    l.getY()"
   ]
  },
  {
   "cell_type": "code",
   "execution_count": null,
   "metadata": {},
   "outputs": [],
   "source": [
    "class zuobao:\n",
    "    def shur(self):\n",
    "        import math      \n",
    "        x1,y1,x2,y2=map(float,input().split())\n",
    "        x3,y3,x4,y4=map(float,input().split())\n",
    "        u1=(x4-x3)*(y1-y3)-(x1-x3)*(y4-y3)\n",
    "        v1=(x4-x3)*(y2-y3)-(x2-x3)*(y4-y3)\n",
    "        u=math.fabs(u1)\n",
    "        v=math.fabs(v1)\n",
    "\n",
    "        x5=(x1*v+x2*u)/(u+v)\n",
    "        y5=(y1*v+y2*u)/(u+v)\n",
    "        print(x5,y5) \n",
    "re=zuobao()\n",
    "re.shur()"
   ]
  },
  {
   "cell_type": "code",
   "execution_count": null,
   "metadata": {},
   "outputs": [],
   "source": []
  }
 ],
 "metadata": {
  "kernelspec": {
   "display_name": "Python 3",
   "language": "python",
   "name": "python3"
  },
  "language_info": {
   "codemirror_mode": {
    "name": "ipython",
    "version": 3
   },
   "file_extension": ".py",
   "mimetype": "text/x-python",
   "name": "python",
   "nbconvert_exporter": "python",
   "pygments_lexer": "ipython3",
   "version": "3.6.4"
  }
 },
 "nbformat": 4,
 "nbformat_minor": 2
}
